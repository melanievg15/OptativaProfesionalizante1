{
  "nbformat": 4,
  "nbformat_minor": 0,
  "metadata": {
    "colab": {
      "provenance": [],
      "authorship_tag": "ABX9TyO5aOX8U5Qax8x6tgmSpZ+a",
      "include_colab_link": true
    },
    "kernelspec": {
      "name": "python3",
      "display_name": "Python 3"
    },
    "language_info": {
      "name": "python"
    }
  },
  "cells": [
    {
      "cell_type": "markdown",
      "metadata": {
        "id": "view-in-github",
        "colab_type": "text"
      },
      "source": [
        "<a href=\"https://colab.research.google.com/github/melanievg15/OptativaProfesionalizante1/blob/main/Operaciones_B%C3%A1sicas.ipynb\" target=\"_parent\"><img src=\"https://colab.research.google.com/assets/colab-badge.svg\" alt=\"Open In Colab\"/></a>"
      ]
    },
    {
      "cell_type": "code",
      "execution_count": 2,
      "metadata": {
        "id": "2PMqTPcvvagT"
      },
      "outputs": [],
      "source": [
        "import pandas as pd"
      ]
    },
    {
      "cell_type": "markdown",
      "source": [
        "Operaciones Básicas"
      ],
      "metadata": {
        "id": "RXnff9c1vbk3"
      }
    },
    {
      "cell_type": "code",
      "source": [
        "df = pd.DataFrame({\n",
        "    'Nombre': ['Ana', 'Juan', 'María', 'Carlos', 'Sofía'],\n",
        "    'Edad': [25, 30, 22, 28, 35],\n",
        "    'Ciudad': ['Madrid', 'Barcelona', 'Madrid', 'Valencia', 'Barcelona'],\n",
        "    'Puntuación': [85, 92, 78, 95, 88]\n",
        "})\n",
        "\n",
        "print(\"DataFrame original:\")\n",
        "print(df)"
      ],
      "metadata": {
        "colab": {
          "base_uri": "https://localhost:8080/"
        },
        "id": "zWr8oRxtvh7u",
        "outputId": "caa4e3ee-8c7d-4147-dfdb-ff5fd39b14db"
      },
      "execution_count": 3,
      "outputs": [
        {
          "output_type": "stream",
          "name": "stdout",
          "text": [
            "DataFrame original:\n",
            "   Nombre  Edad     Ciudad  Puntuación\n",
            "0     Ana    25     Madrid          85\n",
            "1    Juan    30  Barcelona          92\n",
            "2   María    22     Madrid          78\n",
            "3  Carlos    28   Valencia          95\n",
            "4   Sofía    35  Barcelona          88\n"
          ]
        }
      ]
    },
    {
      "cell_type": "markdown",
      "source": [
        "#**Filtrado**"
      ],
      "metadata": {
        "id": "Vi-Zpadswv-I"
      }
    },
    {
      "cell_type": "code",
      "source": [
        "mayores_25 = df[df['Edad'] > 25]\n",
        "print(\"\\nPersonas mayores de 25 años\")\n",
        "print(mayores_25)"
      ],
      "metadata": {
        "colab": {
          "base_uri": "https://localhost:8080/"
        },
        "id": "mpSQGgtiwy_4",
        "outputId": "1d720263-e2be-4661-f62e-2aa21aca41fb"
      },
      "execution_count": 5,
      "outputs": [
        {
          "output_type": "stream",
          "name": "stdout",
          "text": [
            "\n",
            "Personas mayores de 25 años\n",
            "   Nombre  Edad     Ciudad  Puntuación\n",
            "1    Juan    30  Barcelona          92\n",
            "3  Carlos    28   Valencia          95\n",
            "4   Sofía    35  Barcelona          88\n"
          ]
        }
      ]
    },
    {
      "cell_type": "markdown",
      "source": [
        "#**Agrupación y agregación**"
      ],
      "metadata": {
        "id": "Ol7T-ODuxPrn"
      }
    },
    {
      "cell_type": "code",
      "source": [
        "resultado = df[df['Edad'] > 25].groupby('Ciudad')['Puntuación'].max()\n",
        "print(\"\\nMáxima puntuación por ciudad para personas mayores de 25 años:\")\n",
        "print(resultado)"
      ],
      "metadata": {
        "colab": {
          "base_uri": "https://localhost:8080/"
        },
        "id": "WvRLJnouxVSQ",
        "outputId": "8e0deb32-6b22-437f-f567-2b045581358c"
      },
      "execution_count": 8,
      "outputs": [
        {
          "output_type": "stream",
          "name": "stdout",
          "text": [
            "\n",
            "Máxima puntuación por ciudad para personas mayores de 25 años:\n",
            "Ciudad\n",
            "Barcelona    92\n",
            "Valencia     95\n",
            "Name: Puntuación, dtype: int64\n"
          ]
        }
      ]
    }
  ]
}