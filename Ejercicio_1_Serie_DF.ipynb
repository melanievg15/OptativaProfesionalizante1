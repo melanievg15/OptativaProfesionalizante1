{
  "nbformat": 4,
  "nbformat_minor": 0,
  "metadata": {
    "colab": {
      "provenance": [],
      "authorship_tag": "ABX9TyMbAcPA5pF3wg5xa0Z72CHU",
      "include_colab_link": true
    },
    "kernelspec": {
      "name": "python3",
      "display_name": "Python 3"
    },
    "language_info": {
      "name": "python"
    }
  },
  "cells": [
    {
      "cell_type": "markdown",
      "metadata": {
        "id": "view-in-github",
        "colab_type": "text"
      },
      "source": [
        "<a href=\"https://colab.research.google.com/github/melanievg15/OptativaProfesionalizante1/blob/main/Ejercicio_1_Serie_DF.ipynb\" target=\"_parent\"><img src=\"https://colab.research.google.com/assets/colab-badge.svg\" alt=\"Open In Colab\"/></a>"
      ]
    },
    {
      "cell_type": "markdown",
      "source": [
        "#**Ejercicio 1**\n",
        "\n",
        "###Teoria\n",
        "\n",
        "Explicación de Series y DataFrames Diferencias y usos de cada estructura\n"
      ],
      "metadata": {
        "id": "AEyRM_dHS8yD"
      }
    },
    {
      "cell_type": "code",
      "execution_count": 1,
      "metadata": {
        "id": "y3U2GlABSGcL"
      },
      "outputs": [],
      "source": [
        "import pandas as pd\n",
        "import numpy as np"
      ]
    },
    {
      "cell_type": "markdown",
      "source": [
        "#**Creación de una Serie**"
      ],
      "metadata": {
        "id": "zekRXfqwTVMd"
      }
    },
    {
      "cell_type": "code",
      "source": [
        "s = pd.Series([1, 3, 5, np.nan, 6, 8])\n",
        "print(\"Serie:\")\n",
        "print(s)"
      ],
      "metadata": {
        "colab": {
          "base_uri": "https://localhost:8080/"
        },
        "id": "pbw8fr7NTZjl",
        "outputId": "02147c19-e78f-4a0c-d04f-0e1179e321db"
      },
      "execution_count": 2,
      "outputs": [
        {
          "output_type": "stream",
          "name": "stdout",
          "text": [
            "Serie:\n",
            "0    1.0\n",
            "1    3.0\n",
            "2    5.0\n",
            "3    NaN\n",
            "4    6.0\n",
            "5    8.0\n",
            "dtype: float64\n"
          ]
        }
      ]
    },
    {
      "cell_type": "markdown",
      "source": [
        "#**Crear un DataFrame**"
      ],
      "metadata": {
        "id": "oY9gfblkT4vF"
      }
    },
    {
      "cell_type": "code",
      "source": [
        "df = pd.DataFrame({\n",
        "    'A': [1, 2, 3, 4],\n",
        "    'B': pd.Timestamp('20230101'),\n",
        "    'C': pd.Series(1, index=list(range(4)), dtype='float32'),\n",
        "    'D': np.array([3] * 4, dtype='int32'),\n",
        "    'E': pd.Categorical([\"test\", \"train\", \"test\", \"train\"]),\n",
        "    'F': 'foo'\n",
        "})\n",
        "\n",
        "print(\"\\nDataFrame:\")\n",
        "print(df)"
      ],
      "metadata": {
        "colab": {
          "base_uri": "https://localhost:8080/"
        },
        "id": "s15_U8jTT8eI",
        "outputId": "b5d8fc37-de49-4215-dd3f-6005923dcac1"
      },
      "execution_count": 5,
      "outputs": [
        {
          "output_type": "stream",
          "name": "stdout",
          "text": [
            "\n",
            "DataFrame:\n",
            "   A          B    C  D      E    F\n",
            "0  1 2023-01-01  1.0  3   test  foo\n",
            "1  2 2023-01-01  1.0  3  train  foo\n",
            "2  3 2023-01-01  1.0  3   test  foo\n",
            "3  4 2023-01-01  1.0  3  train  foo\n"
          ]
        }
      ]
    }
  ]
}