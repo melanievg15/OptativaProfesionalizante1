{
  "nbformat": 4,
  "nbformat_minor": 0,
  "metadata": {
    "colab": {
      "provenance": [],
      "authorship_tag": "ABX9TyPoFnRXUperFDy93NqEmoQ7",
      "include_colab_link": true
    },
    "kernelspec": {
      "name": "python3",
      "display_name": "Python 3"
    },
    "language_info": {
      "name": "python"
    }
  },
  "cells": [
    {
      "cell_type": "markdown",
      "metadata": {
        "id": "view-in-github",
        "colab_type": "text"
      },
      "source": [
        "<a href=\"https://colab.research.google.com/github/melanievg15/OptativaProfesionalizante1/blob/main/Uniones.ipynb\" target=\"_parent\"><img src=\"https://colab.research.google.com/assets/colab-badge.svg\" alt=\"Open In Colab\"/></a>"
      ]
    },
    {
      "cell_type": "markdown",
      "source": [
        "#**Tipos de uniones (joins) en Python:**\n",
        "\n",
        "**1. Inner Join**"
      ],
      "metadata": {
        "id": "SrW8uLGdx29m"
      }
    },
    {
      "cell_type": "code",
      "execution_count": 1,
      "metadata": {
        "id": "oewhp5p0x2cn"
      },
      "outputs": [],
      "source": [
        "import pandas as pd"
      ]
    },
    {
      "cell_type": "markdown",
      "source": [
        "#**Crear dos DataFrames**"
      ],
      "metadata": {
        "id": "8KUhQZAIyE5v"
      }
    },
    {
      "cell_type": "code",
      "source": [
        "df1 = pd.DataFrame({\n",
        "    'ID': [1, 2, 3, 4],\n",
        "    'Nombre': ['Ana', 'Juan', 'María', 'Carlos'],\n",
        "    'Departamento': ['Ventas', 'IT', 'Marketing', 'RH']\n",
        "})\n",
        "\n",
        "df2 = pd.DataFrame({\n",
        "    'ID': [3, 4, 5, 6],\n",
        "    'Salario': [50000, 60000, 55000, 65000]\n",
        "})\n",
        "print(\"DataFrame 1:\")\n",
        "print(df1)\n",
        "print(\"DataFrame 2:\")\n",
        "print(df2)"
      ],
      "metadata": {
        "colab": {
          "base_uri": "https://localhost:8080/"
        },
        "id": "eGiRPSrAzI1h",
        "outputId": "5c3a5f8b-5f5b-4417-85c8-9611c3d90b18"
      },
      "execution_count": 3,
      "outputs": [
        {
          "output_type": "stream",
          "name": "stdout",
          "text": [
            "DataFrame 1:\n",
            "   ID  Nombre Departamento\n",
            "0   1     Ana       Ventas\n",
            "1   2    Juan           IT\n",
            "2   3   María    Marketing\n",
            "3   4  Carlos           RH\n",
            "DataFrame 2:\n",
            "   ID  Salario\n",
            "0   3    50000\n",
            "1   4    60000\n",
            "2   5    55000\n",
            "3   6    65000\n"
          ]
        }
      ]
    },
    {
      "cell_type": "markdown",
      "source": [
        "#**Fusión Inner**"
      ],
      "metadata": {
        "id": "RwrtdGgqzS5J"
      }
    },
    {
      "cell_type": "code",
      "source": [
        "inner_merge = pd.merge(df1, df2, on='ID', how='inner')\n",
        "print(\"\\nFusión inner:\")\n",
        "print(inner_merge)"
      ],
      "metadata": {
        "colab": {
          "base_uri": "https://localhost:8080/"
        },
        "id": "-k0M2B6tzWG_",
        "outputId": "5fc3c396-8a31-4ae7-d683-4a4f4b5b2834"
      },
      "execution_count": 4,
      "outputs": [
        {
          "output_type": "stream",
          "name": "stdout",
          "text": [
            "\n",
            "Fusión inner:\n",
            "   ID  Nombre Departamento  Salario\n",
            "0   3   María    Marketing    50000\n",
            "1   4  Carlos           RH    60000\n"
          ]
        }
      ]
    },
    {
      "cell_type": "markdown",
      "source": [
        "#**Fusión outer**\n",
        "\n"
      ],
      "metadata": {
        "id": "-3IMH6iY0ZTU"
      }
    },
    {
      "cell_type": "code",
      "source": [
        "outer_merge = pd.merge(df1, df2, on='ID', how='outer')\n",
        "print(\"\\nFusión outer\")\n",
        "print(outer_merge)"
      ],
      "metadata": {
        "colab": {
          "base_uri": "https://localhost:8080/"
        },
        "id": "uO-xQlur0fiZ",
        "outputId": "36ee413f-3ff0-4849-b4e1-bc00a79101e0"
      },
      "execution_count": 6,
      "outputs": [
        {
          "output_type": "stream",
          "name": "stdout",
          "text": [
            "\n",
            "Fusión outer\n",
            "   ID  Nombre Departamento  Salario\n",
            "0   1     Ana       Ventas      NaN\n",
            "1   2    Juan           IT      NaN\n",
            "2   3   María    Marketing  50000.0\n",
            "3   4  Carlos           RH  60000.0\n",
            "4   5     NaN          NaN  55000.0\n",
            "5   6     NaN          NaN  65000.0\n"
          ]
        }
      ]
    },
    {
      "cell_type": "markdown",
      "source": [
        "#**Fusión Left**"
      ],
      "metadata": {
        "id": "M3cHfBiR06tS"
      }
    },
    {
      "cell_type": "code",
      "source": [
        "left_merge = pd.merge(df1, df2, on='ID', how='left')\n",
        "print(\"\\nFusión outer\")\n",
        "print(left_merge)"
      ],
      "metadata": {
        "colab": {
          "base_uri": "https://localhost:8080/"
        },
        "id": "ncqFS5v109wA",
        "outputId": "42f9ed26-b9a9-437e-8870-e063aa700a28"
      },
      "execution_count": 7,
      "outputs": [
        {
          "output_type": "stream",
          "name": "stdout",
          "text": [
            "\n",
            "Fusión outer\n",
            "   ID  Nombre Departamento  Salario\n",
            "0   1     Ana       Ventas      NaN\n",
            "1   2    Juan           IT      NaN\n",
            "2   3   María    Marketing  50000.0\n",
            "3   4  Carlos           RH  60000.0\n"
          ]
        }
      ]
    },
    {
      "cell_type": "markdown",
      "source": [
        "#**Fusión Right**"
      ],
      "metadata": {
        "id": "-q-vRK4Q1Uvy"
      }
    },
    {
      "cell_type": "code",
      "source": [
        "right_merge = pd.merge(df1, df2, on='ID', how='right')\n",
        "print(\"\\nFusión outer\")\n",
        "print(right_merge)"
      ],
      "metadata": {
        "colab": {
          "base_uri": "https://localhost:8080/"
        },
        "id": "7GDzg9KY1XgA",
        "outputId": "049373f7-de02-47a4-afb2-8c552e67e825"
      },
      "execution_count": 8,
      "outputs": [
        {
          "output_type": "stream",
          "name": "stdout",
          "text": [
            "\n",
            "Fusión outer\n",
            "   ID  Nombre Departamento  Salario\n",
            "0   3   María    Marketing    50000\n",
            "1   4  Carlos           RH    60000\n",
            "2   5     NaN          NaN    55000\n",
            "3   6     NaN          NaN    65000\n"
          ]
        }
      ]
    },
    {
      "cell_type": "markdown",
      "source": [
        "#**Concatenación**"
      ],
      "metadata": {
        "id": "W46pKnbV1lO5"
      }
    },
    {
      "cell_type": "code",
      "source": [
        "df3 = pd.DataFrame({\n",
        "    'ID': [7, 8],\n",
        "    'Nombre': ['Sofía', 'Pedro'],\n",
        "    'Departamento': ['Finanzas', 'Ventas']\n",
        "})\n",
        "\n",
        "concatenated1 = pd.concat([df1, df3])\n",
        "print(\"\\nConcatenación de DataFrames:\")\n",
        "print(concatenated1)"
      ],
      "metadata": {
        "colab": {
          "base_uri": "https://localhost:8080/"
        },
        "id": "Gn8mi_UB1n5c",
        "outputId": "54182267-a3b6-48a0-a020-ceffe99a5463"
      },
      "execution_count": 10,
      "outputs": [
        {
          "output_type": "stream",
          "name": "stdout",
          "text": [
            "\n",
            "Concatenación de DataFrames:\n",
            "   ID  Nombre Departamento\n",
            "0   1     Ana       Ventas\n",
            "1   2    Juan           IT\n",
            "2   3   María    Marketing\n",
            "3   4  Carlos           RH\n",
            "0   7   Sofía     Finanzas\n",
            "1   8   Pedro       Ventas\n"
          ]
        }
      ]
    },
    {
      "cell_type": "code",
      "source": [
        "concatenated2 = pd.concat([df2, df3])\n",
        "print(\"\\nConcatenación de DataFrames:\")\n",
        "print(concatenated2)"
      ],
      "metadata": {
        "colab": {
          "base_uri": "https://localhost:8080/"
        },
        "id": "OkelM5nq2Y3f",
        "outputId": "de1abe25-9f03-4015-a672-0386d9ff0a3c"
      },
      "execution_count": 11,
      "outputs": [
        {
          "output_type": "stream",
          "name": "stdout",
          "text": [
            "\n",
            "Concatenación de DataFrames:\n",
            "   ID  Salario Nombre Departamento\n",
            "0   3  50000.0    NaN          NaN\n",
            "1   4  60000.0    NaN          NaN\n",
            "2   5  55000.0    NaN          NaN\n",
            "3   6  65000.0    NaN          NaN\n",
            "0   7      NaN  Sofía     Finanzas\n",
            "1   8      NaN  Pedro       Ventas\n"
          ]
        }
      ]
    }
  ]
}